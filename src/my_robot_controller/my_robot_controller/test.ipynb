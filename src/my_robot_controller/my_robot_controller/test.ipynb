{
 "cells": [
  {
   "cell_type": "code",
   "execution_count": null,
   "metadata": {},
   "outputs": [
    {
     "name": "stdout",
     "output_type": "stream",
     "text": [
      "Current directory: /my_bot/src/my_robot_controller/my_robot_controller\n"
     ]
    }
   ],
   "source": [
    "import os\n",
    "\n",
    "# Get the current working directory\n",
    "current_directory = os.getcwd()\n",
    "\n",
    "# Print the current directory\n",
    "print(\"Current directory:\", current_directory)"
   ]
  },
  {
   "cell_type": "markdown",
   "metadata": {},
   "source": [
    "## GPT-4o"
   ]
  },
  {
   "cell_type": "code",
   "execution_count": 5,
   "metadata": {},
   "outputs": [],
   "source": [
    "from openai import OpenAI\n",
    "import base64\n",
    "import requests"
   ]
  },
  {
   "cell_type": "code",
   "execution_count": 7,
   "metadata": {},
   "outputs": [],
   "source": [
    "with open('/my_bot/src/my_robot_controller/resource/openai_api.txt', 'r') as file:\n",
    "    api_key = file.read().strip()\n",
    "    \n",
    "def GPT4o(robotPrompt, api_key = api_key):\n",
    "    headers = {\n",
    "        \"Content-Type\": \"application/json\",\n",
    "        \"Authorization\": f\"Bearer {api_key}\"\n",
    "    }\n",
    "\n",
    "    payload = {\n",
    "        \"model\": \"gpt-4o\",\n",
    "        \"messages\": [\n",
    "            {\n",
    "                \"role\": \"user\",\n",
    "                \"content\": [\n",
    "                    {\n",
    "                        \"type\": \"text\",\n",
    "                        \"text\": robotPrompt\n",
    "                    },\n",
    "                    # {\n",
    "                    #     \"type\": \"image_url\",\n",
    "                    #     \"image_url\": {\n",
    "                    #         \"url\": f\"data:image/jpeg;base64,{self.imgDecode}\"\n",
    "                    #     }\n",
    "                    # }\n",
    "                ]\n",
    "            }\n",
    "        ],\n",
    "        \"max_tokens\": 300\n",
    "    }\n",
    "    return requests.post(\"https://api.openai.com/v1/chat/completions\", headers=headers, json=payload).json()['choices'][0]['message']['content']"
   ]
  },
  {
   "cell_type": "markdown",
   "metadata": {},
   "source": [
    "### Prompt"
   ]
  },
  {
   "cell_type": "code",
   "execution_count": null,
   "metadata": {},
   "outputs": [],
   "source": [
    "delimiter = \"#####\""
   ]
  },
  {
   "cell_type": "code",
   "execution_count": null,
   "metadata": {},
   "outputs": [],
   "source": [
    "task = \"\"\"Determine the best action for a mobile robot to move towards an odor source.\n",
    "\"\"\"\n",
    "\n",
    "actionInstructions = \"\"\"\n",
    "Action Selection Instruction 1: If the \"current odor concentration\" is \"High\", then move upwind to approach the odor source. (Action = 1)\n",
    "Action Selection Instruction 2: If the \"current odor concentration\" is \"Low\", move crosswind. (Action = 2).\n",
    "\"\"\"\n",
    "\n",
    "outputInstructions = f\"\"\"\n",
    "Your response should use the following format:\n",
    "<reasoning>\n",
    "<reasoning>\n",
    "<repeat until you have a decision>\n",
    "Response to user:{delimiter} <only output one `Action_id` as a int number of you decision, without any action name or explanation. The output decision must be unique and not ambiguous, for example if you decide to move upwind, then output `1`> \n",
    "Make sure to include {delimiter} to separate every step.\"\"\"\n",
    "\n",
    "robotPrompt = f\"\"\"\n",
    "{delimiter} Task: {task}.\n",
    "{delimiter} Current sensor readings:\n",
    "{delimiter} Action Selection Instructions:\n",
    "{actionInstructions}\n",
    "{delimiter} Output Instructions:\n",
    "{outputInstructions}\n",
    "{delimiter} Below messages are some examples of how you make a decision successfully in the past. Those scenarios are similar to the current scenario. You should refer to those examples to make a decision for similar scenarios. \n",
    "\"\"\""
   ]
  },
  {
   "cell_type": "markdown",
   "metadata": {},
   "source": [
    "#### Sensor reading"
   ]
  },
  {
   "cell_type": "markdown",
   "metadata": {},
   "source": [
    "#### Memory module"
   ]
  }
 ],
 "metadata": {
  "kernelspec": {
   "display_name": "base",
   "language": "python",
   "name": "python3"
  },
  "language_info": {
   "codemirror_mode": {
    "name": "ipython",
    "version": 3
   },
   "file_extension": ".py",
   "mimetype": "text/x-python",
   "name": "python",
   "nbconvert_exporter": "python",
   "pygments_lexer": "ipython3",
   "version": "3.9.7"
  }
 },
 "nbformat": 4,
 "nbformat_minor": 2
}
